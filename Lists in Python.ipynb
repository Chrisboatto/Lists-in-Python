{
 "cells": [
  {
   "cell_type": "code",
   "execution_count": null,
   "metadata": {},
   "outputs": [],
   "source": [
    "#Lists in Python\n",
    "\n",
    "#About the Dataset\n",
    "\n",
    "#Imagine you received album recommendations from your friends and compiled all of the recommandations into a table, with specific information about each album.\n",
    "\n",
    "#The table has one row for each movie and several columns:\n",
    "\n",
    "#- **artist** - Name of the artist\n",
    "#- **album** - Name of the album\n",
    "#- **released_year** - Year the album was released\n",
    "#- **length_min_sec** - Length of the album (hours,minutes,seconds)\n",
    "#- **genre** - Genre of the album\n",
    "#- **music_recording_sales_millions** - Music recording sales (millions in USD) on [SONG://DATABASE](http://www.song-database.com/)\n",
    "#- **claimed_sales_millions** - Album's claimed sales (millions in USD) on [SONG://DATABASE](http://www.song-database.com/)\n",
    "#- **date_released** - Date on which the album was released\n",
    "#- **soundtrack** - Indicates if the album is the movie soundtrack (Y) or (N)\n",
    "#- **rating_of_friends** - Indicates the rating from your friends from 1 to 10"
   ]
  },
  {
   "cell_type": "code",
   "execution_count": null,
   "metadata": {},
   "outputs": [],
   "source": [
    "#Lists\n",
    "\n",
    "\n",
    "#Indexing\n",
    "\n",
    "#We are going to take a look at lists in Python. A list is a sequenced collection of different objects such as integers, \n",
    "#strings, and other lists as well. The address of each element within a list is called an index.\n",
    "#An index is used to access and refer to items within a list.\n",
    "\n",
    "#To create a list, type the list within square brackets [ ], with your content inside the parenthesis and separated by commas. Let’s try it!\n",
    "\n",
    "# Create a list\n",
    "\n",
    "L = [\"Michael Jackson\", 10.1, 1982]\n",
    "L"
   ]
  },
  {
   "cell_type": "code",
   "execution_count": null,
   "metadata": {},
   "outputs": [],
   "source": [
    "# Print the elements on each index\n",
    "\n",
    "print('the same element using negative and positive indexing:\\n Postive:',L[0],\n",
    "'\\n Negative:' , L[-3]  )\n",
    "print('the same element using negative and positive indexing:\\n Postive:',L[1],\n",
    "'\\n Negative:' , L[-2]  )\n",
    "print('the same element using negative and positive indexing:\\n Postive:',L[2],\n",
    "'\\n Negative:' , L[-1]  )"
   ]
  },
  {
   "cell_type": "code",
   "execution_count": null,
   "metadata": {},
   "outputs": [],
   "source": [
    "#List Content\n",
    "\n",
    "#Lists can contain strings, floats, and integers. We can nest other lists, \n",
    "#and we can also nest tuples and other data structures. The same indexing conventions apply for nesting:\n",
    "\n",
    "# Sample List\n",
    "\n",
    "[\"Michael Jackson\", 10.1, 1982, [1, 2], (\"A\", 1)]"
   ]
  },
  {
   "cell_type": "code",
   "execution_count": 1,
   "metadata": {},
   "outputs": [
    {
     "name": "stdout",
     "output_type": "stream",
     "text": [
      "Before change: ['disco', 10, 1.2]\n",
      "After change: ['hard rock', 10, 1.2]\n",
      "Before change: ['hard rock', 10, 1.2]\n",
      "After change: [10, 1.2]\n"
     ]
    },
    {
     "data": {
      "text/plain": [
       "['hard', 'rock']"
      ]
     },
     "execution_count": 1,
     "metadata": {},
     "output_type": "execute_result"
    }
   ],
   "source": [
    "#List Operations\n",
    "\n",
    "#We can also perform slicing in lists. For example, if we want the last two elements, we use the following command:\n",
    "\n",
    "# Sample List\n",
    "\n",
    "L = [\"Michael Jackson\", 10.1,1982,\"MJ\",1]\n",
    "L\n",
    "\n",
    "# List slicing\n",
    "\n",
    "L[3:5]\n",
    "\n",
    "#We can use the method extend to add new elements to the list:\n",
    "\n",
    "# Use extend to add elements to list\n",
    "\n",
    "L = [ \"Michael Jackson\", 10.2]\n",
    "L.extend(['pop', 10])\n",
    "L\n",
    "\n",
    "#Another similar method is append. If we apply append instead of extend, we add one element to the list:\n",
    "\n",
    "# Use append to add elements to list\n",
    "\n",
    "L = [ \"Michael Jackson\", 10.2]\n",
    "L.append(['pop', 10])\n",
    "L\n",
    "\n",
    "#Each time we apply a method, the list changes. If we apply extend we add two new elements to the list. The list L is then modified by adding two new elements:\n",
    "\n",
    "# Use extend to add elements to list\n",
    "\n",
    "L = [ \"Michael Jackson\", 10.2]\n",
    "L.extend(['pop', 10])\n",
    "L\n",
    "\n",
    "#If we append the list  ['a','b'] we have one new element consisting of a nested list:\n",
    "\n",
    "# Use append to add elements to list\n",
    "\n",
    "L.append(['a','b'])\n",
    "L\n",
    "\n",
    "#As lists are mutable, we can change them. For example, we can change the first element as follows:\n",
    "\n",
    "# Change the element based on the index\n",
    "\n",
    "A = [\"disco\", 10, 1.2]\n",
    "print('Before change:', A)\n",
    "A[0] = 'hard rock'\n",
    "print('After change:', A)\n",
    "\n",
    "#We can also delete an element of a list using the del command:\n",
    "\n",
    "# Delete the element based on the index\n",
    "\n",
    "print('Before change:', A)\n",
    "del(A[0])\n",
    "print('After change:', A)\n",
    "\n",
    "#We can convert a string to a list using split.  For example, the method split translates every group of characters separated by a space into an element in a list:\n",
    "\n",
    "# Split the string, default is by space\n",
    "\n",
    "'hard rock'.split()\n",
    "\n",
    "#We can use the split function to separate strings on a specific character. We pass the character we would like to split on into the argument, which in this case is a comma.  \n",
    "#The result is a list, and each element corresponds to a set of characters that have been separated by a comma: \n",
    "\n",
    "# Split the string by comma\n",
    "\n",
    "'A,B,C,D'.split(',')"
   ]
  },
  {
   "cell_type": "code",
   "execution_count": null,
   "metadata": {},
   "outputs": [],
   "source": [
    "#Copy and Clone List\n",
    "\n",
    "#When we set one variable B equal to A; both A and B are referencing the same list in memory:\n",
    "\n",
    "# Copy (copy by reference) the list A\n",
    "\n",
    "A = [\"hard rock\", 10, 1.2]\n",
    "B = A\n",
    "print('A:', A)\n",
    "print('B:', B)\n",
    "\n",
    "#Initially, the value of the first element in B set as hard rock. If we change the first element in A to banana, we get an unexpected side effect.  As A and B are referencing the same list, if we change list A, then list B also changes. If we check the first element of B we get banana instead of hard rock:\n",
    "\n",
    "# Examine the copy by reference\n",
    "\n",
    "print('B[0]:', B[0])\n",
    "A[0] = \"banana\"\n",
    "print('B[0]:', B[0])\n",
    "\n",
    "#You can clone list A by using  the following syntax:\n",
    "\n",
    "# Clone (clone by value) the list A\n",
    "\n",
    "B = A[:]\n",
    "B\n",
    "\n",
    "# Variable B references a new copy or clone of the original list\n",
    "\n",
    "#Now if you change A, B will not change: \n",
    "\n",
    "print('B[0]:', B[0])\n",
    "A[0] = \"hard rock\"\n",
    "print('B[0]:', B[0])"
   ]
  },
  {
   "cell_type": "code",
   "execution_count": null,
   "metadata": {},
   "outputs": [],
   "source": [
    "#Quiz on List\n",
    "\n",
    "#Create a list a_list, with the following elements 1, hello, [1,2,3] and True. \n",
    "\n",
    "# Write your code below and press Shift+Enter to execute\n",
    "\n",
    "a_list = [1, \"hello\", [1,2,3], \"True\"]"
   ]
  },
  {
   "cell_type": "code",
   "execution_count": null,
   "metadata": {},
   "outputs": [],
   "source": [
    "#Find the value stored at index 1 of a_list.\n",
    "\n",
    "# Write your code below and press Shift+Enter to execute\n",
    "\n",
    "a_list[1]"
   ]
  },
  {
   "cell_type": "code",
   "execution_count": null,
   "metadata": {},
   "outputs": [],
   "source": [
    "#Retrieve the elements stored at index 1, 2 and 3 of a_list.\n",
    "\n",
    "# Write your code below and press Shift+Enter to execute\n",
    "\n",
    "a_list[1:4]"
   ]
  },
  {
   "cell_type": "code",
   "execution_count": null,
   "metadata": {},
   "outputs": [],
   "source": [
    "#Concatenate the following lists A = [1, 'a'] and B = [2, 1, 'd']:\n",
    "\n",
    "# Write your code below and press Shift+Enter to execute\n",
    "\n",
    "A = [1, 'a']\n",
    "B = [2, 1, 'd']\n",
    "A + B"
   ]
  }
 ],
 "metadata": {
  "kernelspec": {
   "display_name": "Python 3",
   "language": "python",
   "name": "python3"
  },
  "language_info": {
   "codemirror_mode": {
    "name": "ipython",
    "version": 3
   },
   "file_extension": ".py",
   "mimetype": "text/x-python",
   "name": "python",
   "nbconvert_exporter": "python",
   "pygments_lexer": "ipython3",
   "version": "3.7.3"
  }
 },
 "nbformat": 4,
 "nbformat_minor": 2
}
